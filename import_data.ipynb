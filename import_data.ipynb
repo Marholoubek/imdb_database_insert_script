{
 "cells": [
  {
   "cell_type": "code",
   "execution_count": 94,
   "metadata": {
    "collapsed": true
   },
   "outputs": [],
   "source": [
    "import pandas as pd\n",
    "import pyodbc\n"
   ]
  },
  {
   "cell_type": "code",
   "execution_count": 95,
   "outputs": [],
   "source": [
    "# spring.datasource.url=jdbc:sqlserver://localhost:1433;databaseName=IMDb_spring;encrypt=true;trustServerCertificate=true;\n",
    "\n",
    "driver = \"ODBC Driver 18 for SQL Server\"\n",
    "server = \"localhost\"\n",
    "database = \"IMDb_spring\"\n",
    "username = \"sa\"\n",
    "password = \"Password123\"\n",
    "run = False\n"
   ],
   "metadata": {
    "collapsed": false
   }
  },
  {
   "cell_type": "code",
   "execution_count": 96,
   "outputs": [],
   "source": [
    "connection_string = f\"DRIVER={{{driver}}};SERVER={server};DATABASE={database};UID={username};PWD={password};TrustServerCertificate=yes\"\n",
    "conn = None\n",
    "if run:\n",
    "    conn = pyodbc.connect(connection_string)\n",
    "\n",
    "row_limit = 3000\n"
   ],
   "metadata": {
    "collapsed": false
   }
  },
  {
   "cell_type": "code",
   "execution_count": 97,
   "outputs": [],
   "source": [
    "def return_null_if_empty(value):\n",
    "    if value == \"\" or value == \"\\\\N\":\n",
    "        return \"null\"\n",
    "    else:\n",
    "        return value\n",
    "\n",
    "def return_null_if_empty_and_stringify(value):\n",
    "    if value == \"\" or value == \"\\\\N\":\n",
    "        return \"null\"\n",
    "    else:\n",
    "        return f\"'{value}'\"\n",
    "\n",
    "\n",
    "def create_or_find_title_type(type_name):\n",
    "    cursor = conn.cursor()\n",
    "    cursor.execute(f\"SELECT * FROM title_types WHERE name = '{type_name}'\")\n",
    "    row = cursor.fetchone()\n",
    "    if row is None:\n",
    "        cursor.execute(f\"INSERT INTO title_types (title_type_id, name) values (next value for title_types_id_seq,'{type_name}')\")\n",
    "        conn.commit()\n",
    "        cursor.execute(f\"SELECT * FROM title_types WHERE name = '{type_name}'\")\n",
    "        row = cursor.fetchone()\n",
    "    return row[0]\n",
    "\n",
    "def create_or_find_genre(genre_name):\n",
    "    try:\n",
    "        cursor = conn.cursor()\n",
    "        cursor.execute(f\"SELECT * FROM genres WHERE name = '{genre_name}'\")\n",
    "        row = cursor.fetchone()\n",
    "        if row is None:\n",
    "            cursor.execute(f\"INSERT INTO genres (genre_id, name) values (next value for genres_id_seq,'{genre_name}')\")\n",
    "            conn.commit()\n",
    "            cursor.execute(f\"SELECT * FROM genres WHERE name = '{genre_name}'\")\n",
    "            row = cursor.fetchone()\n",
    "        return row[0]\n",
    "    except Exception as e:\n",
    "        print(e)\n",
    "\n",
    "def add_genres_to_title_basics(tconst, genres_list):\n",
    "    genres = genres_list.split(\",\")\n",
    "    for genre in genres:\n",
    "        try:\n",
    "            genre_id = create_or_find_genre(genre)\n",
    "            cursor = conn.cursor()\n",
    "            cursor.execute(f\"INSERT INTO title_genres (tconst, genre_id) values ('{tconst}', {genre_id})\")\n",
    "        except Exception as e:\n",
    "            print(e)\n",
    "    conn.commit()\n",
    "\n",
    "\n",
    "def insert_title_basics():\n",
    "    df = pd.read_csv(\"title.basics.tsv\", sep=\"\\t\", nrows=row_limit)\n",
    "    df = df.where(pd.notnull(df), None)\n",
    "    for index, row in df.iterrows():\n",
    "        try:\n",
    "            tconst = row[\"tconst\"]\n",
    "            title_type = create_or_find_title_type(row[\"titleType\"])\n",
    "            primary_title = \"{0}\".format(row[\"primaryTitle\"].replace(\"'\", \"''\"))\n",
    "            original_title = \"{0}\".format(row[\"originalTitle\"].replace(\"'\", \"''\"))\n",
    "            is_adult = row[\"isAdult\"]\n",
    "            start_year = row[\"startYear\"]\n",
    "            end_year = return_null_if_empty(row[\"endYear\"])\n",
    "            runtime_minutes = return_null_if_empty(row[\"runtimeMinutes\"])\n",
    "            genres = return_null_if_empty(row[\"genres\"])\n",
    "            cursor = conn.cursor()\n",
    "            cursor.execute(f\"INSERT INTO title_basics (tconst, title_type_id, primary_title, original_title, is_adult, start_year, end_year, runtime_minutes) values ('{tconst}', {title_type}, '{primary_title}', '{original_title}', {is_adult}, {start_year}, {end_year}, {runtime_minutes})\")\n",
    "            if genres is not None:\n",
    "                add_genres_to_title_basics(tconst, genres)\n",
    "        except Exception as e:\n",
    "            print(e)\n",
    "    conn.commit()\n"
   ],
   "metadata": {
    "collapsed": false
   }
  },
  {
   "cell_type": "code",
   "execution_count": 97,
   "outputs": [],
   "source": [],
   "metadata": {
    "collapsed": false
   }
  },
  {
   "cell_type": "code",
   "execution_count": 98,
   "outputs": [],
   "source": [
    "def create_or_find_title_akas_type(type_name):\n",
    "    if type_name is None or type_name == \"\" or type_name == \"\\\\N\" or type_name == \"null\":\n",
    "        return \"null\"\n",
    "    try:\n",
    "        cursor = conn.cursor()\n",
    "        cursor.execute(f\"SELECT * FROM akas_types WHERE name = '{type_name}'\")\n",
    "        row = cursor.fetchone()\n",
    "        if row is None:\n",
    "            cursor.execute(f\"INSERT INTO akas_types (akas_type_id, name) values (next value for IMDb_spring.dbo.akas_types_id_seq,'{type_name}')\")\n",
    "            conn.commit()\n",
    "            cursor.execute(f\"SELECT * FROM akas_types WHERE name = '{type_name}'\")\n",
    "            row = cursor.fetchone()\n",
    "        return row[0]\n",
    "    except Exception as e:\n",
    "        print(e)\n",
    "\n",
    "\n",
    "def insert_title_akas():\n",
    "    df = pd.read_csv(\"title.akas.tsv\", sep=\"\\t\", nrows=row_limit)\n",
    "    df = df.where(pd.notnull(df), None)\n",
    "    for index, row in df.iterrows():\n",
    "        try:\n",
    "            title_id = row[\"titleId\"]\n",
    "            ordering = row[\"ordering\"]\n",
    "            title = \"{0}\".format(row[\"title\"].replace(\"'\", \"''\"))\n",
    "            region = return_null_if_empty_and_stringify(row[\"region\"])\n",
    "            language = return_null_if_empty_and_stringify(row[\"language\"])\n",
    "            types = return_null_if_empty(row[\"types\"])\n",
    "            type_id = create_or_find_title_akas_type(types)\n",
    "            attributes = return_null_if_empty_and_stringify(row[\"attributes\"])\n",
    "            is_original_title = row[\"isOriginalTitle\"]\n",
    "            cursor = conn.cursor()\n",
    "            cursor.execute(f\"INSERT INTO title_akas (tconst, ordering, akas_type_id, title, region, language, attributes, is_original_title)  values ('{title_id}', {ordering}, {type_id}, '{title}', {region}, {language}, {attributes}, {is_original_title})\")\n",
    "        except Exception as e:\n",
    "            print(e)\n",
    "\n",
    "    conn.commit()"
   ],
   "metadata": {
    "collapsed": false
   }
  },
  {
   "cell_type": "code",
   "execution_count": 98,
   "outputs": [],
   "source": [],
   "metadata": {
    "collapsed": false
   }
  },
  {
   "cell_type": "code",
   "execution_count": 99,
   "outputs": [],
   "source": [
    "def create_or_find_professions(type_name):\n",
    "    if type_name is None or type_name == \"\" or type_name == \"\\\\N\" or type_name == \"null\":\n",
    "        return \"null\"\n",
    "    try:\n",
    "        cursor = conn.cursor()\n",
    "        cursor.execute(f\"SELECT * FROM professions WHERE name = '{type_name}'\")\n",
    "        row = cursor.fetchone()\n",
    "        if row is None:\n",
    "            cursor.execute(f\"INSERT INTO professions (profession_id, name) values (next value for IMDb_spring.dbo.professions_id_seq,'{type_name}')\")\n",
    "            conn.commit()\n",
    "            cursor.execute(f\"SELECT * FROM professions WHERE name = '{type_name}'\")\n",
    "            row = cursor.fetchone()\n",
    "        return row[0]\n",
    "    except Exception as e:\n",
    "        print(e)\n",
    "\n",
    "def add_professions_to_name_basics(nconst, professions_list):\n",
    "    professions = professions_list.split(\",\")\n",
    "    for profession in professions:\n",
    "        try:\n",
    "            profession_id = create_or_find_professions(profession)\n",
    "            cursor = conn.cursor()\n",
    "            cursor.execute(f\"INSERT INTO name_professions (nconst, profession_id) values ('{nconst}', {profession_id})\")\n",
    "        except Exception as e:\n",
    "            print(e)\n",
    "    conn.commit()\n",
    "\n",
    "def add_name_known_for_to_name_basics(nconst, known_for_titles_list):\n",
    "    known_for_titles = known_for_titles_list.split(\",\")\n",
    "    for known_for_title in known_for_titles:\n",
    "        try:\n",
    "            cursor = conn.cursor()\n",
    "            cursor.execute(f\"INSERT INTO name_known_for_titles (nconst, tconst) values ('{nconst}', '{known_for_title}')\")\n",
    "        except Exception as e:\n",
    "            print(e)\n",
    "    conn.commit()\n",
    "\n",
    "\n",
    "def insert_name_basics():\n",
    "    df = pd.read_csv(\"name.basis.tsv\", sep=\"\\t\", nrows=row_limit)\n",
    "    df = df.where(pd.notnull(df), None)\n",
    "    for index, row in df.iterrows():\n",
    "        try:\n",
    "            nconst = row[\"nconst\"]\n",
    "            primary_name = \"{0}\".format(row[\"primaryName\"].replace(\"'\", \"''\"))\n",
    "            birth_year = return_null_if_empty(row[\"birthYear\"])\n",
    "            death_year = return_null_if_empty(row[\"deathYear\"])\n",
    "            primary_profession = return_null_if_empty(row[\"primaryProfession\"])\n",
    "            known_for_titles = return_null_if_empty(row[\"knownForTitles\"])\n",
    "            cursor = conn.cursor()\n",
    "            cursor.execute(f\"INSERT INTO name_basics (nconst, primary_name, birth_year, death_year) values ('{nconst}', '{primary_name}', {birth_year}, {death_year})\")\n",
    "            if primary_profession is not None:\n",
    "                add_professions_to_name_basics(nconst, primary_profession)\n",
    "            if known_for_titles is not None:\n",
    "                add_name_known_for_to_name_basics(nconst, known_for_titles)\n",
    "        except Exception as e:\n",
    "            print(e)\n",
    "    conn.commit()\n"
   ],
   "metadata": {
    "collapsed": false
   }
  },
  {
   "cell_type": "code",
   "execution_count": 99,
   "outputs": [],
   "source": [],
   "metadata": {
    "collapsed": false
   }
  },
  {
   "cell_type": "code",
   "execution_count": 100,
   "outputs": [],
   "source": [
    "def add_writers_to_titles(tconst, writers_list):\n",
    "    writers = writers_list.split(\",\")\n",
    "    for writer in writers:\n",
    "        try:\n",
    "            cursor = conn.cursor()\n",
    "            cursor.execute(f\"INSERT INTO title_writers (tconst, nconst) values ('{tconst}', '{writer}')\")\n",
    "        except Exception as e:\n",
    "            print(e)\n",
    "    conn.commit()\n",
    "\n",
    "def add_directors_to_titles(tconst, directors_list):\n",
    "    directors = directors_list.split(\",\")\n",
    "    for director in directors:\n",
    "        try:\n",
    "            cursor = conn.cursor()\n",
    "            cursor.execute(f\"INSERT INTO title_directors (tconst, nconst) values ('{tconst}', '{director}')\")\n",
    "        except Exception as e:\n",
    "            print(e)\n",
    "    conn.commit()\n",
    "\n",
    "def insert_title_crew():\n",
    "    df = pd.read_csv(\"title.crew.tsv\", sep=\"\\t\", nrows=row_limit)\n",
    "    df = df.where(pd.notnull(df), None)\n",
    "    for index, row in df.iterrows():\n",
    "        try:\n",
    "            tconst = row[\"tconst\"]\n",
    "            directors = return_null_if_empty(row[\"directors\"])\n",
    "            writers = return_null_if_empty(row[\"writers\"])\n",
    "            if directors is not None:\n",
    "                add_directors_to_titles(tconst, directors)\n",
    "            if writers is not None:\n",
    "                add_writers_to_titles(tconst, writers)\n",
    "        except Exception as e:\n",
    "            print(e)\n",
    "    conn.commit()\n"
   ],
   "metadata": {
    "collapsed": false
   }
  },
  {
   "cell_type": "code",
   "execution_count": 100,
   "outputs": [],
   "source": [],
   "metadata": {
    "collapsed": false
   }
  },
  {
   "cell_type": "code",
   "execution_count": 101,
   "outputs": [],
   "source": [
    "def create_or_find_principal_category(type_name):\n",
    "    if type_name is None or type_name == \"\" or type_name == \"\\\\N\" or type_name == \"null\":\n",
    "        return \"null\"\n",
    "    try:\n",
    "        cursor = conn.cursor()\n",
    "        cursor.execute(f\"SELECT * FROM principal_category WHERE name = '{type_name}'\")\n",
    "        row = cursor.fetchone()\n",
    "        if row is None:\n",
    "            cursor.execute(f\"INSERT INTO principal_category (principal_category_id, name) values (next value for IMDb_spring.dbo.principal_category_id_seq,'{type_name}')\")\n",
    "            conn.commit()\n",
    "            cursor.execute(f\"SELECT * FROM principal_category WHERE name = '{type_name}'\")\n",
    "            row = cursor.fetchone()\n",
    "        return row[0]\n",
    "    except Exception as e:\n",
    "        print(e)\n",
    "\n",
    "def insert_title_principals():\n",
    "    df = pd.read_csv(\"title.principals.tsv\", sep=\"\\t\", nrows=row_limit)\n",
    "    df = df.where(pd.notnull(df), None)\n",
    "    for index, row in  df.iterrows():\n",
    "        try:\n",
    "            tconst = row[\"tconst\"]\n",
    "            ordering = row[\"ordering\"]\n",
    "            nconst = row[\"nconst\"]\n",
    "            category = return_null_if_empty(row[\"category\"])\n",
    "            job = return_null_if_empty(row[\"job\"])\n",
    "            characters = return_null_if_empty(row[\"characters\"])\n",
    "            characters = characters.replace(\"[\", \"\")\n",
    "            characters = characters.replace(\"]\", \"\")\n",
    "            characters = characters.replace(\"'\", \"\")\n",
    "            characters = characters.replace('\"', \"\")\n",
    "            principal_category_id = create_or_find_principal_category(category)\n",
    "            cursor = conn.cursor()\n",
    "            cursor.execute(f\"INSERT INTO title_principals (tconst, ordering, nconst, category_id, job, characters) values ('{tconst}', {ordering}, '{nconst}', {principal_category_id}, '{job}', '{characters}')\")\n",
    "        except Exception as e:\n",
    "            print(e)\n",
    "    conn.commit()\n"
   ],
   "metadata": {
    "collapsed": false
   }
  },
  {
   "cell_type": "code",
   "execution_count": 102,
   "outputs": [],
   "source": [
    "if conn is not None:\n",
    "    insert_title_basics()\n",
    "    insert_title_akas()\n",
    "    insert_name_basics()\n",
    "    insert_title_crew()\n",
    "    insert_title_principals()"
   ],
   "metadata": {
    "collapsed": false
   }
  },
  {
   "cell_type": "code",
   "execution_count": 102,
   "outputs": [],
   "source": [],
   "metadata": {
    "collapsed": false
   }
  }
 ],
 "metadata": {
  "kernelspec": {
   "display_name": "Python 3",
   "language": "python",
   "name": "python3"
  },
  "language_info": {
   "codemirror_mode": {
    "name": "ipython",
    "version": 2
   },
   "file_extension": ".py",
   "mimetype": "text/x-python",
   "name": "python",
   "nbconvert_exporter": "python",
   "pygments_lexer": "ipython2",
   "version": "2.7.6"
  }
 },
 "nbformat": 4,
 "nbformat_minor": 0
}
